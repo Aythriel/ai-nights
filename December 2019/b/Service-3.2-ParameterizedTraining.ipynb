{
 "cells": [
  {
   "cell_type": "code",
   "execution_count": null,
   "metadata": {},
   "outputs": [],
   "source": [
    "# Authenticate if we haven't already\n",
    "\n",
    "from azureml.core.authentication import InteractiveLoginAuthentication\n",
    "\n",
    "credentials = InteractiveLoginAuthentication()"
   ]
  },
  {
   "cell_type": "code",
   "execution_count": null,
   "metadata": {},
   "outputs": [],
   "source": [
    "from azureml.core import Workspace\n",
    "\n",
    "ws = Workspace.from_config(auth=credentials)\n",
    "print(ws.name, ws.location, ws.resource_group, ws.location, sep = '\\t')"
   ]
  },
  {
   "cell_type": "code",
   "execution_count": null,
   "metadata": {},
   "outputs": [],
   "source": [
    "from azureml.core import Experiment\n",
    "exp = Experiment(workspace=ws, name='AIBootcamp')"
   ]
  },
  {
   "cell_type": "code",
   "execution_count": null,
   "metadata": {},
   "outputs": [],
   "source": [
    "from azureml.train.estimator import Estimator\n",
    "\n",
    "algorithms = ['sklearn.tree.DecisionTreeClassifier',\n",
    "              'sklearn.linear_model.RidgeClassifier',\n",
    "              'sklearn.ensemble.RandomForestClassifier',\n",
    "              'sklearn.linear_model.LogisticRegression'\n",
    "             ]\n",
    "\n",
    "for algo in algorithms:\n",
    "    args = { '--algorithm': algo }\n",
    "    est = Estimator(source_directory='.',\n",
    "                script_params=args,\n",
    "                compute_target='local',\n",
    "                entry_script='train-parameterized.py',\n",
    "                user_managed=True, use_docker=False)\n",
    "\n",
    "\n",
    "    run = exp.submit(config=est)\n",
    "    run.wait_for_completion(show_output=True)\n",
    "    \n",
    "    print(run.get_metrics())"
   ]
  },
  {
   "cell_type": "code",
   "execution_count": null,
   "metadata": {},
   "outputs": [],
   "source": [
    "import importlib\n",
    "\n",
    "algorithm = 'sklearn.tree.DecisionTreeClassifier'\n",
    "\n",
    "partition = algorithm.rpartition('.')\n",
    "algorithm_class = getattr(importlib.import_module(partition[0]), partition[2])\n",
    "classifier = algorithm_class()\n",
    "print(classifier)"
   ]
  },
  {
   "cell_type": "code",
   "execution_count": null,
   "metadata": {},
   "outputs": [],
   "source": []
  }
 ],
 "metadata": {
  "celltoolbar": "Slideshow",
  "kernelspec": {
   "display_name": "Python 3",
   "language": "python",
   "name": "python3"
  },
  "language_info": {
   "codemirror_mode": {
    "name": "ipython",
    "version": 3
   },
   "file_extension": ".py",
   "mimetype": "text/x-python",
   "name": "python",
   "nbconvert_exporter": "python",
   "pygments_lexer": "ipython3",
   "version": "3.6.7"
  }
 },
 "nbformat": 4,
 "nbformat_minor": 4
}
