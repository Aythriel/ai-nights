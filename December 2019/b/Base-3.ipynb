{
 "cells": [
  {
   "cell_type": "code",
   "execution_count": null,
   "metadata": {
    "slideshow": {
     "slide_type": "slide"
    }
   },
   "outputs": [],
   "source": [
    "# Take a look at the dataset\n",
    "\n",
    "import pandas as pd\n",
    "\n",
    "train = pd.read_csv('./data/train.csv')"
   ]
  },
  {
   "cell_type": "code",
   "execution_count": null,
   "metadata": {},
   "outputs": [],
   "source": [
    "# Training features - everything and the kitchen sink, except the text ones\n",
    "\n",
    "X_columns = ['Type', #'Name',\n",
    "             'Age', 'Breed1', 'Breed2', 'Gender',\n",
    "             'Color1', 'Color2', 'Color3', 'MaturitySize', \n",
    "             'FurLength', 'Vaccinated', 'Dewormed', 'Sterilized', \n",
    "             'Health', 'Quantity', 'Fee', 'State', #'RescuerID',\n",
    "             'VideoAmt', #'Description', 'PetID',\n",
    "             'PhotoAmt']\n",
    "y_columns = ['AdoptionSpeed']\n",
    "\n",
    "X = train[X_columns]\n",
    "y = train[y_columns]"
   ]
  },
  {
   "cell_type": "code",
   "execution_count": null,
   "metadata": {},
   "outputs": [],
   "source": [
    "# Use stratified train/test split, no cross validation for now\n",
    "\n",
    "import pandas as pd\n",
    "from sklearn.model_selection import train_test_split\n",
    "from sklearn.metrics import accuracy_score\n",
    "\n",
    "X_train, X_test, y_train, y_test = train_test_split(X, y, stratify=y)\n",
    "\n",
    "print(X_train.shape)\n",
    "print(X_test.shape)"
   ]
  },
  {
   "cell_type": "code",
   "execution_count": null,
   "metadata": {},
   "outputs": [],
   "source": [
    "from sklearn.tree import DecisionTreeClassifier\n",
    "from sklearn.linear_model import RidgeClassifier\n",
    "from sklearn.ensemble import RandomForestClassifier\n",
    "from sklearn.linear_model import LogisticRegression\n",
    "from sklearn.metrics import accuracy_score\n",
    "\n",
    "classifiers = [DecisionTreeClassifier(),\n",
    "               RidgeClassifier(), \n",
    "               RandomForestClassifier(n_estimators=100), \n",
    "               LogisticRegression(multi_class='auto', solver='liblinear')]\n",
    "\n",
    "best_accuracy = 0\n",
    "best_model = None\n",
    "\n",
    "for classifier in classifiers:\n",
    "    classifier.fit(X_train, y_train.values.flatten())\n",
    "    \n",
    "    y_predicted = classifier.predict(X_test)\n",
    "    accuracy = accuracy_score(y_test, y_predicted)\n",
    "    \n",
    "    model_name = type(classifier).__name__\n",
    "    print('Accuracy of', model_name, 'is', accuracy)\n",
    "    \n",
    "    if best_accuracy < accuracy:\n",
    "        best_accuracy = accuracy\n",
    "        best_model = classifier\n",
    "    \n",
    "y_predicted = best_model.predict(X_test)"
   ]
  },
  {
   "cell_type": "code",
   "execution_count": null,
   "metadata": {},
   "outputs": [],
   "source": [
    "from sklearn.metrics import classification_report, confusion_matrix\n",
    "\n",
    "print(confusion_matrix(y_test, y_predicted))"
   ]
  },
  {
   "cell_type": "code",
   "execution_count": null,
   "metadata": {},
   "outputs": [],
   "source": [
    "import numpy as np\n",
    "\n",
    "cm = confusion_matrix(y_test, y_predicted)\n",
    "cm = (cm.astype('float') / cm.sum(axis=1)[:, np.newaxis]).round(3)*100\n",
    "\n",
    "print(cm)"
   ]
  },
  {
   "cell_type": "code",
   "execution_count": null,
   "metadata": {
    "slideshow": {
     "slide_type": "slide"
    }
   },
   "outputs": [],
   "source": [
    "print(classification_report(y_test, y_predicted))"
   ]
  },
  {
   "cell_type": "code",
   "execution_count": null,
   "metadata": {},
   "outputs": [],
   "source": []
  }
 ],
 "metadata": {
  "celltoolbar": "Slideshow",
  "kernelspec": {
   "display_name": "Python 3",
   "language": "python",
   "name": "python3"
  },
  "language_info": {
   "codemirror_mode": {
    "name": "ipython",
    "version": 3
   },
   "file_extension": ".py",
   "mimetype": "text/x-python",
   "name": "python",
   "nbconvert_exporter": "python",
   "pygments_lexer": "ipython3",
   "version": "3.6.7"
  }
 },
 "nbformat": 4,
 "nbformat_minor": 4
}
